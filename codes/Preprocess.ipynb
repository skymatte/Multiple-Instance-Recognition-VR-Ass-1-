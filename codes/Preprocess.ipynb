{
 "cells": [
  {
   "cell_type": "code",
   "execution_count": 27,
   "metadata": {},
   "outputs": [],
   "source": [
    "# import get_cluster_centres\n",
    "import numpy as np\n",
    "from sklearn.cluster import KMeans\n",
    "from sklearn.cluster import MiniBatchKMeans as kmn"
   ]
  },
  {
   "cell_type": "code",
   "execution_count": 28,
   "metadata": {},
   "outputs": [],
   "source": [
    "def generate_vocabulary(img_list):\n",
    "    temp_list = []\n",
    "    flag = True\n",
    "    for img in img_list:\n",
    "\n",
    "        features = get_cluster_centres.get_sift_feature_descriptors(img)\n",
    "        temp_list.append(features)\n",
    "\n",
    "    vocab_list = temp_list[0]\n",
    "\n",
    "    for ftr in range(1, len(temp_list)):\n",
    "        vocab_list = np.vstack((vocab_list, temp_list[ftr]))\n",
    "        # print(vocab_list.shape)\n",
    "        \n",
    "    vocabulary = vocab_list\n",
    "    return (vocab_list, temp_list)"
   ]
  },
  {
   "cell_type": "code",
   "execution_count": 4,
   "metadata": {},
   "outputs": [],
   "source": [
    "def generate_clusters(vocab, n_clusters = 500):\n",
    "    \n",
    "    kmeans = kmn(n_clusters).fit(vocab)\n",
    "    return kmeans\n"
   ]
  },
  {
   "cell_type": "code",
   "execution_count": 30,
   "metadata": {},
   "outputs": [],
   "source": [
    "import pickle\n",
    "f= open(\"Test.sift\",\"rb\")\n",
    "dic=pickle.load(f)\n",
    "f.close()\n",
    "#print(len(list(dict.values())))\n"
   ]
  },
  {
   "cell_type": "code",
   "execution_count": 31,
   "metadata": {},
   "outputs": [],
   "source": [
    "sv=[]\n",
    "Names=[]\n",
    "for k in list(dic):\n",
    "    for j in list(dic[k]):\n",
    "        sv.append(dic[k][j])\n",
    "        Names.append([k,j])"
   ]
  },
  {
   "cell_type": "code",
   "execution_count": 32,
   "metadata": {},
   "outputs": [],
   "source": [
    "k=np.vstack(sv)"
   ]
  },
  {
   "cell_type": "code",
   "execution_count": 33,
   "metadata": {},
   "outputs": [
    {
     "name": "stderr",
     "output_type": "stream",
     "text": [
      "/usr/local/lib/python3.5/dist-packages/sklearn/cluster/k_means_.py:1559: RuntimeWarning: init_size=300 should be larger than k=4000. Setting it to 3*k\n",
      "  init_size=init_size)\n",
      "/usr/local/lib/python3.5/dist-packages/sklearn/cluster/k_means_.py:1559: RuntimeWarning: init_size=300 should be larger than k=4000. Setting it to 3*k\n",
      "  init_size=init_size)\n",
      "/usr/local/lib/python3.5/dist-packages/sklearn/cluster/k_means_.py:1559: RuntimeWarning: init_size=300 should be larger than k=4000. Setting it to 3*k\n",
      "  init_size=init_size)\n"
     ]
    }
   ],
   "source": [
    "kmeans=generate_clusters(k,n_clusters=4000)"
   ]
  },
  {
   "cell_type": "code",
   "execution_count": 12,
   "metadata": {},
   "outputs": [],
   "source": [
    "f= open(\"../files/centroids/KMeans_4000\",\"wb\")\n",
    "pickle.dump(kmeans,f)\n",
    "f.close()"
   ]
  },
  {
   "cell_type": "code",
   "execution_count": 13,
   "metadata": {},
   "outputs": [
    {
     "name": "stdout",
     "output_type": "stream",
     "text": [
      "(1268814, 2)\n"
     ]
    }
   ],
   "source": [
    "from sklearn.decomposition import PCA\n",
    "pca = PCA(2)  # project from  128 to 2 dimensions\n",
    "projected = pca.fit_transform(np.vstack(sv))\n",
    "#print(sv.shape)\n",
    "print(projected.shape)"
   ]
  },
  {
   "cell_type": "code",
   "execution_count": 14,
   "metadata": {},
   "outputs": [
    {
     "data": {
      "text/plain": [
       "Text(0, 0.5, 'component 2')"
      ]
     },
     "execution_count": 14,
     "metadata": {},
     "output_type": "execute_result"
    }
   ],
   "source": [
    "import matplotlib.pyplot as plt\n",
    "#import seaborn as sns; sns.set()\n",
    "plt.scatter(projected[:, 0], projected[:, 1], edgecolor='none', alpha=0.5,\n",
    "            cmap=plt.cm.get_cmap('coolwarm', 10))\n",
    "plt.xlabel('component 1')\n",
    "plt.ylabel('component 2')\n",
    "#plt.colorbar();\n"
   ]
  },
  {
   "cell_type": "code",
   "execution_count": 40,
   "metadata": {
    "scrolled": true
   },
   "outputs": [
    {
     "name": "stdout",
     "output_type": "stream",
     "text": [
      "15\n",
      "0\t['tr', 'hard_single_3.jpg']\n",
      "\n",
      "1\t['tr', 'test_1.jpg']\n",
      "\n",
      "2\t['tr', 'easy_single_3.jpg']\n",
      "\n",
      "3\t['tr', 'hard_multi_1.jpg']\n",
      "\n",
      "4\t['tr', 'hard_single_1.jpg']\n",
      "\n",
      "5\t['tr', 'easy_multi_1.jpg']\n",
      "\n",
      "6\t['tr', 'easy_single_1.jpg']\n",
      "\n",
      "7\t['tr', 'hard_multi_3.jpg']\n",
      "\n",
      "8\t['tr', 'hard_single_2.jpg']\n",
      "\n",
      "9\t['tr', 'test_3.jpg']\n",
      "\n",
      "10\t['tr', 'easy_multi_2.jpg']\n",
      "\n",
      "11\t['tr', 'easy_multi_3.jpg']\n",
      "\n",
      "12\t['tr', 'test_2.jpg']\n",
      "\n",
      "13\t['tr', 'easy_single_2.jpg']\n",
      "\n",
      "14\t['tr', 'hard_multi_2.jpg']\n",
      "\n"
     ]
    },
    {
     "data": {
      "text/plain": [
       "[None,\n",
       " None,\n",
       " None,\n",
       " None,\n",
       " None,\n",
       " None,\n",
       " None,\n",
       " None,\n",
       " None,\n",
       " None,\n",
       " None,\n",
       " None,\n",
       " None,\n",
       " None,\n",
       " None]"
      ]
     },
     "execution_count": 40,
     "metadata": {},
     "output_type": "execute_result"
    }
   ],
   "source": [
    "print(len(Names))\n",
    "[print(str(i)+\"\\t\"+str(Names[i])+\"\\n\") for i in range(15)]"
   ]
  },
  {
   "cell_type": "code",
   "execution_count": 41,
   "metadata": {},
   "outputs": [],
   "source": [
    "def generate_features(temp_list, kmeans, n_clusters):\n",
    "    \n",
    "    t_length = len(temp_list)\n",
    "    p_array = np.zeros((1,n_clusters))\n",
    "\n",
    "    for i in range(0, t_length):\n",
    "\n",
    "        features = temp_list[i]\n",
    "        print(features.shape)\n",
    "        (x1,y1)=features.shape\n",
    "        t_array = np.zeros((1, n_clusters)) #an array for each image\n",
    "        for j in range(x1):\n",
    "            des = features[j]\n",
    "            des = des.reshape(1, 128)\n",
    "            ind = kmeans.predict(des)\n",
    "            t_array[0][ind] += 1\n",
    "\n",
    "        p_array = np.vstack((p_array, t_array))\n",
    "    \n",
    "    p_array = p_array[1:]\n",
    "    return p_array"
   ]
  },
  {
   "cell_type": "code",
   "execution_count": 42,
   "metadata": {},
   "outputs": [],
   "source": [
    "f= open(\"../files/centroids/KMeans_4000\",\"rb\")\n",
    "kmeans=pickle.load(f)\n",
    "f.close()"
   ]
  },
  {
   "cell_type": "code",
   "execution_count": 43,
   "metadata": {},
   "outputs": [
    {
     "name": "stdout",
     "output_type": "stream",
     "text": [
      "(3686, 128)\n",
      "(368, 128)\n",
      "(40, 128)\n",
      "(3661, 128)\n",
      "(391, 128)\n",
      "(113, 128)\n",
      "(41, 128)\n",
      "(399, 128)\n",
      "(1816, 128)\n",
      "(534, 128)\n",
      "(46, 128)\n",
      "(41, 128)\n",
      "(376, 128)\n",
      "(27, 128)\n",
      "(1599, 128)\n"
     ]
    }
   ],
   "source": [
    "histo_grm=generate_features(sv,kmeans,4000)"
   ]
  },
  {
   "cell_type": "code",
   "execution_count": 44,
   "metadata": {},
   "outputs": [
    {
     "name": "stdout",
     "output_type": "stream",
     "text": [
      "15\n"
     ]
    }
   ],
   "source": [
    "print(len(histo_grm))\n"
   ]
  },
  {
   "cell_type": "code",
   "execution_count": 45,
   "metadata": {},
   "outputs": [
    {
     "data": {
      "text/plain": [
       "(15, 4000)"
      ]
     },
     "execution_count": 45,
     "metadata": {},
     "output_type": "execute_result"
    }
   ],
   "source": [
    "hs=np.array(histo_grm)\n",
    "np.save(\"../files/tset_Histogram_4000\",hs)\n",
    "hs.shape"
   ]
  },
  {
   "cell_type": "code",
   "execution_count": 46,
   "metadata": {},
   "outputs": [
    {
     "name": "stderr",
     "output_type": "stream",
     "text": [
      "/usr/local/lib/python3.5/dist-packages/sklearn/feature_extraction/text.py:1242: RuntimeWarning: divide by zero encountered in true_divide\n",
      "  idf = np.log(n_samples / df) + 1\n"
     ]
    }
   ],
   "source": [
    "from sklearn.feature_extraction.text import TfidfTransformer\n",
    "tfr = TfidfTransformer(smooth_idf=False)\n",
    "transf=tfr.fit_transform(hs)\n",
    "k= transf.toarray()"
   ]
  },
  {
   "cell_type": "code",
   "execution_count": 47,
   "metadata": {},
   "outputs": [
    {
     "name": "stdout",
     "output_type": "stream",
     "text": [
      "[[0.02107198 0.01404799 0.         ... 0.         0.         0.        ]\n",
      " [0.         0.         0.         ... 0.         0.         0.        ]\n",
      " [0.         0.         0.         ... 0.         0.         0.        ]\n",
      " ...\n",
      " [0.         0.         0.         ... 0.         0.293064   0.        ]\n",
      " [0.         0.         0.         ... 0.         0.         0.        ]\n",
      " [0.01558556 0.01558556 0.         ... 0.         0.         0.        ]]\n"
     ]
    }
   ],
   "source": [
    "print(k)"
   ]
  },
  {
   "cell_type": "code",
   "execution_count": 48,
   "metadata": {},
   "outputs": [],
   "source": [
    "S=np.matmul(k,k.transpose())"
   ]
  },
  {
   "cell_type": "code",
   "execution_count": 49,
   "metadata": {},
   "outputs": [
    {
     "name": "stdout",
     "output_type": "stream",
     "text": [
      "[ 3  0  6  0  7  4 10  4 14  0  6  4  8 11  8] [0.97142926 0.03123614 0.10903494 0.97142926 0.78095225 0.13267033\n",
      " 0.19565676 0.78095225 0.88012265 0.05239109 0.19565676 0.19565878\n",
      " 0.03216251 0.15248435 0.88012265]\n"
     ]
    }
   ],
   "source": [
    "S=S-np.identity(len(S))\n",
    "print(np.argmax(S, axis=1), np.amax(S, axis=1))  "
   ]
  },
  {
   "cell_type": "code",
   "execution_count": 50,
   "metadata": {},
   "outputs": [
    {
     "ename": "FileNotFoundError",
     "evalue": "[Errno 2] No such file or directory: '../files/Tf-idf_4000'",
     "output_type": "error",
     "traceback": [
      "\u001b[0;31m---------------------------------------------------------------------------\u001b[0m",
      "\u001b[0;31mFileNotFoundError\u001b[0m                         Traceback (most recent call last)",
      "\u001b[0;32m<ipython-input-50-76001a9e87c7>\u001b[0m in \u001b[0;36m<module>\u001b[0;34m\u001b[0m\n\u001b[0;32m----> 1\u001b[0;31m \u001b[0mf\u001b[0m\u001b[0;34m=\u001b[0m \u001b[0mopen\u001b[0m\u001b[0;34m(\u001b[0m\u001b[0;34m\"../files/Tf-idf_4000\"\u001b[0m\u001b[0;34m,\u001b[0m\u001b[0;34m\"rb\"\u001b[0m\u001b[0;34m)\u001b[0m\u001b[0;34m\u001b[0m\u001b[0m\n\u001b[0m\u001b[1;32m      2\u001b[0m \u001b[0ms\u001b[0m\u001b[0;34m=\u001b[0m\u001b[0mpickle\u001b[0m\u001b[0;34m.\u001b[0m\u001b[0mload\u001b[0m\u001b[0;34m(\u001b[0m\u001b[0mf\u001b[0m\u001b[0;34m)\u001b[0m\u001b[0;34m\u001b[0m\u001b[0m\n\u001b[1;32m      3\u001b[0m \u001b[0mpickle\u001b[0m\u001b[0;34m.\u001b[0m\u001b[0mdump\u001b[0m\u001b[0;34m(\u001b[0m\u001b[0mf\u001b[0m\u001b[0;34m,\u001b[0m\u001b[0mTf\u001b[0m\u001b[0;34m-\u001b[0m\u001b[0midf\u001b[0m\u001b[0;34m)\u001b[0m\u001b[0;34m\u001b[0m\u001b[0m\n\u001b[1;32m      4\u001b[0m \u001b[0mf\u001b[0m\u001b[0;34m.\u001b[0m\u001b[0mclose\u001b[0m\u001b[0;34m(\u001b[0m\u001b[0;34m)\u001b[0m\u001b[0;34m\u001b[0m\u001b[0m\n\u001b[1;32m      5\u001b[0m \u001b[0mprint\u001b[0m\u001b[0;34m(\u001b[0m\u001b[0ms\u001b[0m\u001b[0;34m)\u001b[0m\u001b[0;34m\u001b[0m\u001b[0m\n",
      "\u001b[0;31mFileNotFoundError\u001b[0m: [Errno 2] No such file or directory: '../files/Tf-idf_4000'"
     ]
    }
   ],
   "source": [
    "f= open(\"../files/Tf-idf_4000\",\"rb\")\n",
    "s=pickle.load(f)\n",
    "pickle.dump(f,Tf-idf)\n",
    "f.close()\n",
    "print(s)"
   ]
  },
  {
   "cell_type": "code",
   "execution_count": 51,
   "metadata": {},
   "outputs": [],
   "source": [
    "f= open(\"../files/TestNames_4000\",\"wb\")\n",
    "pickle.dump(Names,f)\n",
    "# pickle.load(f)\n",
    "f.close()"
   ]
  },
  {
   "cell_type": "code",
   "execution_count": null,
   "metadata": {},
   "outputs": [],
   "source": []
  },
  {
   "cell_type": "code",
   "execution_count": null,
   "metadata": {},
   "outputs": [],
   "source": []
  },
  {
   "cell_type": "code",
   "execution_count": null,
   "metadata": {},
   "outputs": [],
   "source": []
  }
 ],
 "metadata": {
  "kernelspec": {
   "display_name": "Python 3",
   "language": "python",
   "name": "python3"
  },
  "language_info": {
   "codemirror_mode": {
    "name": "ipython",
    "version": 3
   },
   "file_extension": ".py",
   "mimetype": "text/x-python",
   "name": "python",
   "nbconvert_exporter": "python",
   "pygments_lexer": "ipython3",
   "version": "3.5.2"
  }
 },
 "nbformat": 4,
 "nbformat_minor": 2
}
