{
 "cells": [
  {
   "cell_type": "code",
   "execution_count": 2,
   "metadata": {},
   "outputs": [],
   "source": [
    "import numpy as np\n",
    "from sklearn.cluster import KMeans\n",
    "from sklearn.cluster import MiniBatchKMeans as kmn"
   ]
  },
  {
   "cell_type": "code",
   "execution_count": 3,
   "metadata": {},
   "outputs": [],
   "source": [
    "def generate_vocabulary(img_list):\n",
    "\"\"\"\n",
    "    Given a list of images, it generates of vocabulary which contains descriptors of all the images \n",
    "    present in the img_list.\n",
    "    Parameters:\n",
    "         img_list - list containing all the images.\n",
    "    Returns:\n",
    "         (vocab_list, temp_list)\n",
    "         temp_list - list, where each element of the list is a numpy array containing all the feature\n",
    "                     descriptors of the patches present in an image.\n",
    "                     ex: l[1].shape == (x, 128)\n",
    "         vocab_list: a numpy array, which contains all the descriptors present in all the images.\n",
    "                     vocab_list.shape == (x, 128) where x is the total no of descriptors\n",
    "                     present in the images.\n",
    "          128- size of descriptor.\n",
    "    \"\"\"\n",
    "    temp_list = []\n",
    "    flag = True\n",
    "    for img in img_list:\n",
    "\n",
    "        features = get_cluster_centres.get_sift_feature_descriptors(img)\n",
    "        temp_list.append(features)\n",
    "\n",
    "    vocab_list = temp_list[0]\n",
    "\n",
    "    for ftr in range(1, len(temp_list)):\n",
    "        vocab_list = np.vstack((vocab_list, temp_list[ftr]))\n",
    "        # print(vocab_list.shape)\n",
    "        \n",
    "    vocabulary = vocab_list\n",
    "    return (vocab_list, temp_list)"
   ]
  },
  {
   "cell_type": "code",
   "execution_count": 4,
   "metadata": {},
   "outputs": [],
   "source": [
    "def generate_clusters(vocab, n_clusters = 500):\n",
    "    \"\"\"\n",
    "    given vocabulary, and number of clusters in which vocabulary is to be divided, applies \n",
    "    kmeans algorithm and returns \n",
    "    Parameters:\n",
    "    vocab - vocabulary containing feature descriptors from all the images available for training.\n",
    "    n_clusters - Number of clusters for dividing vocab.\n",
    "    Returns:\n",
    "         kmeans - which is further used to predict.\n",
    "    \"\"\"\n",
    "    \n",
    "    kmeans = kmn(n_clusters).fit(vocab)\n",
    "    return kmeans\n"
   ]
  },
  {
   "cell_type": "code",
   "execution_count": 6,
   "metadata": {},
   "outputs": [
    {
     "ename": "FileNotFoundError",
     "evalue": "[Errno 2] No such file or directory: 'Test_set.npy'",
     "output_type": "error",
     "traceback": [
      "\u001b[0;31m---------------------------------------------------------------------------\u001b[0m",
      "\u001b[0;31mFileNotFoundError\u001b[0m                         Traceback (most recent call last)",
      "\u001b[0;32m<ipython-input-6-528ed50df6ad>\u001b[0m in \u001b[0;36m<module>\u001b[0;34m\u001b[0m\n\u001b[0;32m----> 1\u001b[0;31m \u001b[0mk\u001b[0m\u001b[0;34m=\u001b[0m\u001b[0mnp\u001b[0m\u001b[0;34m.\u001b[0m\u001b[0mload\u001b[0m\u001b[0;34m(\u001b[0m\u001b[0;34m'Test_set.npy'\u001b[0m\u001b[0;34m)\u001b[0m\u001b[0;34m\u001b[0m\u001b[0m\n\u001b[0m",
      "\u001b[0;32m/usr/local/lib/python3.5/dist-packages/numpy/lib/npyio.py\u001b[0m in \u001b[0;36mload\u001b[0;34m(file, mmap_mode, allow_pickle, fix_imports, encoding)\u001b[0m\n\u001b[1;32m    382\u001b[0m     \u001b[0mown_fid\u001b[0m \u001b[0;34m=\u001b[0m \u001b[0;32mFalse\u001b[0m\u001b[0;34m\u001b[0m\u001b[0m\n\u001b[1;32m    383\u001b[0m     \u001b[0;32mif\u001b[0m \u001b[0misinstance\u001b[0m\u001b[0;34m(\u001b[0m\u001b[0mfile\u001b[0m\u001b[0;34m,\u001b[0m \u001b[0mbasestring\u001b[0m\u001b[0;34m)\u001b[0m\u001b[0;34m:\u001b[0m\u001b[0;34m\u001b[0m\u001b[0m\n\u001b[0;32m--> 384\u001b[0;31m         \u001b[0mfid\u001b[0m \u001b[0;34m=\u001b[0m \u001b[0mopen\u001b[0m\u001b[0;34m(\u001b[0m\u001b[0mfile\u001b[0m\u001b[0;34m,\u001b[0m \u001b[0;34m\"rb\"\u001b[0m\u001b[0;34m)\u001b[0m\u001b[0;34m\u001b[0m\u001b[0m\n\u001b[0m\u001b[1;32m    385\u001b[0m         \u001b[0mown_fid\u001b[0m \u001b[0;34m=\u001b[0m \u001b[0;32mTrue\u001b[0m\u001b[0;34m\u001b[0m\u001b[0m\n\u001b[1;32m    386\u001b[0m     \u001b[0;32melif\u001b[0m \u001b[0mis_pathlib_path\u001b[0m\u001b[0;34m(\u001b[0m\u001b[0mfile\u001b[0m\u001b[0;34m)\u001b[0m\u001b[0;34m:\u001b[0m\u001b[0;34m\u001b[0m\u001b[0m\n",
      "\u001b[0;31mFileNotFoundError\u001b[0m: [Errno 2] No such file or directory: 'Test_set.npy'"
     ]
    }
   ],
   "source": [
    "k=np.load('Test_set.npy')"
   ]
  },
  {
   "cell_type": "code",
   "execution_count": 7,
   "metadata": {},
   "outputs": [
    {
     "ename": "FileNotFoundError",
     "evalue": "[Errno 2] No such file or directory: '../files/Tf-idf'",
     "output_type": "error",
     "traceback": [
      "\u001b[0;31m---------------------------------------------------------------------------\u001b[0m",
      "\u001b[0;31mFileNotFoundError\u001b[0m                         Traceback (most recent call last)",
      "\u001b[0;32m<ipython-input-7-576c2de82715>\u001b[0m in \u001b[0;36m<module>\u001b[0;34m\u001b[0m\n\u001b[1;32m      1\u001b[0m \u001b[0;32mimport\u001b[0m \u001b[0mpickle\u001b[0m\u001b[0;34m\u001b[0m\u001b[0m\n\u001b[0;32m----> 2\u001b[0;31m \u001b[0mf\u001b[0m\u001b[0;34m=\u001b[0m \u001b[0mopen\u001b[0m\u001b[0;34m(\u001b[0m\u001b[0;34m\"../files/Tf-idf\"\u001b[0m\u001b[0;34m,\u001b[0m\u001b[0;34m\"rb\"\u001b[0m\u001b[0;34m)\u001b[0m\u001b[0;34m\u001b[0m\u001b[0m\n\u001b[0m\u001b[1;32m      3\u001b[0m \u001b[0mtf_idf\u001b[0m\u001b[0;34m=\u001b[0m\u001b[0mpickle\u001b[0m\u001b[0;34m.\u001b[0m\u001b[0mload\u001b[0m\u001b[0;34m(\u001b[0m\u001b[0mf\u001b[0m\u001b[0;34m)\u001b[0m\u001b[0;34m\u001b[0m\u001b[0m\n\u001b[1;32m      4\u001b[0m \u001b[0mf\u001b[0m\u001b[0;34m.\u001b[0m\u001b[0mclose\u001b[0m\u001b[0;34m(\u001b[0m\u001b[0;34m)\u001b[0m\u001b[0;34m\u001b[0m\u001b[0m\n",
      "\u001b[0;31mFileNotFoundError\u001b[0m: [Errno 2] No such file or directory: '../files/Tf-idf'"
     ]
    }
   ],
   "source": [
    "import pickle\n",
    "f= open(\"../files/Tf-idf\",\"rb\")\n",
    "tf_idf=pickle.load(f)\n",
    "f.close()"
   ]
  },
  {
   "cell_type": "code",
   "execution_count": 8,
   "metadata": {},
   "outputs": [],
   "source": [
    "\n",
    "f= open(\"../files/centroids/KMeans_4000\",\"rb\")\n",
    "kmeans=pickle.load(f)\n",
    "f.close()"
   ]
  },
  {
   "cell_type": "code",
   "execution_count": 9,
   "metadata": {},
   "outputs": [],
   "source": [
    "def generate_features(temp_list, kmeans, n_clusters):\n",
    "   \"\"\"\n",
    "    given cluster centres(via kmeans) which are obtained from all the training images, what this function does is,\n",
    "    for each image it creates a histogram where x axis is nothing but all the clusters(0 to n_clusters) and\n",
    "    for each descriptor of the image we calculate to which cluster it belongs and for each cluster y-axis contains\n",
    "    no of times a cluster is predicted via kmeans.predict(descriptor).\n",
    "        This can be further used for training classifier.\n",
    "        Parameters:\n",
    "    temp_list = is the same temp_list from generate_vocabulary.\n",
    "    n_clusters = no of clusters in which training vocab is divided into.\n",
    "    kmeans = kmeans obtained from generate_clusters.\n",
    "    Returns:\n",
    "          p_array - a numpy array which is of size no_images x no_of_clusters.\n",
    "   \"\"\" \n",
    "    t_length = len(temp_list)\n",
    "    p_array = np.zeros((1,n_clusters))\n",
    "\n",
    "    for i in range(0, t_length):\n",
    "\n",
    "        features = temp_list[i]\n",
    "        print(features.shape)\n",
    "        (x1,y1)=features.shape\n",
    "        t_array = np.zeros((1, n_clusters)) #an array for each image\n",
    "        for j in range(x1):\n",
    "            des = features[j]\n",
    "            des = des.reshape(1, 128)\n",
    "            ind = kmeans.predict(des)\n",
    "            t_array[0][ind] += 1\n",
    "\n",
    "        p_array = np.vstack((p_array, t_array))\n",
    "    \n",
    "    p_array = p_array[1:]\n",
    "    return p_array"
   ]
  },
  {
   "cell_type": "code",
   "execution_count": 10,
   "metadata": {},
   "outputs": [],
   "source": [
    "import pickle\n",
    "f= open(\"Test.sift\",\"rb\")\n",
    "dic=pickle.load(f)\n",
    "f.close()"
   ]
  },
  {
   "cell_type": "code",
   "execution_count": 11,
   "metadata": {},
   "outputs": [],
   "source": [
    "sv=[]\n",
    "Names=[]\n",
    "for k in list(dic):\n",
    "    for j in list(dic[k]):\n",
    "        sv.append(dic[k][j])\n",
    "        Names.append([k,j])"
   ]
  },
  {
   "cell_type": "code",
   "execution_count": 12,
   "metadata": {},
   "outputs": [
    {
     "name": "stdout",
     "output_type": "stream",
     "text": [
      "(399, 128)\n",
      "(1816, 128)\n",
      "(27, 128)\n",
      "(41, 128)\n",
      "(534, 128)\n",
      "(391, 128)\n",
      "(40, 128)\n",
      "(41, 128)\n",
      "(46, 128)\n",
      "(368, 128)\n",
      "(1599, 128)\n",
      "(376, 128)\n",
      "(113, 128)\n",
      "(3686, 128)\n",
      "(3661, 128)\n"
     ]
    }
   ],
   "source": [
    "histo_grm=generate_features(sv,kmeans,4000)"
   ]
  },
  {
   "cell_type": "code",
   "execution_count": 13,
   "metadata": {},
   "outputs": [],
   "source": [
    "hs= np.array(histo_grm)"
   ]
  },
  {
   "cell_type": "code",
   "execution_count": 14,
   "metadata": {},
   "outputs": [
    {
     "name": "stderr",
     "output_type": "stream",
     "text": [
      "/usr/local/lib/python3.5/dist-packages/sklearn/feature_extraction/text.py:1242: RuntimeWarning: divide by zero encountered in true_divide\n",
      "  idf = np.log(n_samples / df) + 1\n"
     ]
    }
   ],
   "source": [
    "from sklearn.feature_extraction.text import TfidfTransformer\n",
    "tfr = TfidfTransformer(smooth_idf=False)\n",
    "transf=tfr.fit_transform(hs)\n",
    "k= transf.toarray()"
   ]
  },
  {
   "cell_type": "code",
   "execution_count": 16,
   "metadata": {},
   "outputs": [
    {
     "ename": "NameError",
     "evalue": "name 'tf_idf' is not defined",
     "output_type": "error",
     "traceback": [
      "\u001b[0;31m---------------------------------------------------------------------------\u001b[0m",
      "\u001b[0;31mNameError\u001b[0m                                 Traceback (most recent call last)",
      "\u001b[0;32m<ipython-input-16-cde8507c97d6>\u001b[0m in \u001b[0;36m<module>\u001b[0;34m\u001b[0m\n\u001b[0;32m----> 1\u001b[0;31m \u001b[0ms\u001b[0m\u001b[0;34m=\u001b[0m\u001b[0mnp\u001b[0m\u001b[0;34m.\u001b[0m\u001b[0mdot\u001b[0m\u001b[0;34m(\u001b[0m\u001b[0mk\u001b[0m\u001b[0;34m,\u001b[0m\u001b[0mtf_idf\u001b[0m\u001b[0;34m.\u001b[0m\u001b[0mtranspose\u001b[0m\u001b[0;34m(\u001b[0m\u001b[0;34m)\u001b[0m\u001b[0;34m)\u001b[0m\u001b[0;34m\u001b[0m\u001b[0m\n\u001b[0m",
      "\u001b[0;31mNameError\u001b[0m: name 'tf_idf' is not defined"
     ]
    }
   ],
   "source": [
    "s=np.dot(k,tf_idf.transpose())"
   ]
  },
  {
   "cell_type": "code",
   "execution_count": 17,
   "metadata": {},
   "outputs": [
    {
     "ename": "NameError",
     "evalue": "name 's' is not defined",
     "output_type": "error",
     "traceback": [
      "\u001b[0;31m---------------------------------------------------------------------------\u001b[0m",
      "\u001b[0;31mNameError\u001b[0m                                 Traceback (most recent call last)",
      "\u001b[0;32m<ipython-input-17-1f0fd037afc4>\u001b[0m in \u001b[0;36m<module>\u001b[0;34m\u001b[0m\n\u001b[0;32m----> 1\u001b[0;31m \u001b[0ms\u001b[0m\u001b[0;34m.\u001b[0m\u001b[0mshape\u001b[0m\u001b[0;34m\u001b[0m\u001b[0m\n\u001b[0m",
      "\u001b[0;31mNameError\u001b[0m: name 's' is not defined"
     ]
    }
   ],
   "source": [
    "s.shape"
   ]
  },
  {
   "cell_type": "code",
   "execution_count": 18,
   "metadata": {},
   "outputs": [
    {
     "ename": "NameError",
     "evalue": "name 's' is not defined",
     "output_type": "error",
     "traceback": [
      "\u001b[0;31m---------------------------------------------------------------------------\u001b[0m",
      "\u001b[0;31mNameError\u001b[0m                                 Traceback (most recent call last)",
      "\u001b[0;32m<ipython-input-18-49ef4bc3d864>\u001b[0m in \u001b[0;36m<module>\u001b[0;34m\u001b[0m\n\u001b[0;32m----> 1\u001b[0;31m \u001b[0mprint\u001b[0m\u001b[0;34m(\u001b[0m\u001b[0mnp\u001b[0m\u001b[0;34m.\u001b[0m\u001b[0margmax\u001b[0m\u001b[0;34m(\u001b[0m\u001b[0ms\u001b[0m\u001b[0;34m,\u001b[0m \u001b[0maxis\u001b[0m\u001b[0;34m=\u001b[0m\u001b[0;36m1\u001b[0m\u001b[0;34m)\u001b[0m\u001b[0;34m,\u001b[0m \u001b[0mnp\u001b[0m\u001b[0;34m.\u001b[0m\u001b[0mamax\u001b[0m\u001b[0;34m(\u001b[0m\u001b[0ms\u001b[0m\u001b[0;34m,\u001b[0m \u001b[0maxis\u001b[0m\u001b[0;34m=\u001b[0m\u001b[0;36m1\u001b[0m\u001b[0;34m)\u001b[0m\u001b[0;34m)\u001b[0m\u001b[0;34m\u001b[0m\u001b[0m\n\u001b[0m",
      "\u001b[0;31mNameError\u001b[0m: name 's' is not defined"
     ]
    }
   ],
   "source": [
    "print(np.argmax(s, axis=1), np.amax(s, axis=1))  "
   ]
  },
  {
   "cell_type": "code",
   "execution_count": 19,
   "metadata": {},
   "outputs": [],
   "source": [
    "f= open(\"../files/Names_4000\",\"rb\")\n",
    "names=pickle.load(f)\n",
    "f.close()\n",
    "# print(names)"
   ]
  },
  {
   "cell_type": "code",
   "execution_count": 21,
   "metadata": {},
   "outputs": [
    {
     "name": "stdout",
     "output_type": "stream",
     "text": [
      "3\n"
     ]
    }
   ],
   "source": [
    "i=0\n",
    "for j,k in Names:\n",
    "    if k==\"easy_single_1.jpg\":\n",
    "        break;\n",
    "    i=i+1\n",
    "print(i)"
   ]
  },
  {
   "cell_type": "code",
   "execution_count": 25,
   "metadata": {},
   "outputs": [],
   "source": [
    "names= np.array(names)"
   ]
  },
  {
   "cell_type": "code",
   "execution_count": 1,
   "metadata": {},
   "outputs": [
    {
     "ename": "NameError",
     "evalue": "name 'names' is not defined",
     "output_type": "error",
     "traceback": [
      "\u001b[0;31m---------------------------------------------------------------------------\u001b[0m",
      "\u001b[0;31mNameError\u001b[0m                                 Traceback (most recent call last)",
      "\u001b[0;32m<ipython-input-1-1c11aafb2fef>\u001b[0m in \u001b[0;36m<module>\u001b[0;34m\u001b[0m\n\u001b[0;32m----> 1\u001b[0;31m \u001b[0mK\u001b[0m\u001b[0;34m=\u001b[0m \u001b[0mnames\u001b[0m\u001b[0;34m[\u001b[0m\u001b[0;34m:\u001b[0m\u001b[0;34m,\u001b[0m\u001b[0;36m0\u001b[0m\u001b[0;34m]\u001b[0m\u001b[0;34m\u001b[0m\u001b[0m\n\u001b[0m\u001b[1;32m      2\u001b[0m \u001b[0mK\u001b[0m\u001b[0;34m\u001b[0m\u001b[0m\n",
      "\u001b[0;31mNameError\u001b[0m: name 'names' is not defined"
     ]
    }
   ],
   "source": [
    "K= names[:,0]\n",
    "K"
   ]
  },
  {
   "cell_type": "code",
   "execution_count": 29,
   "metadata": {},
   "outputs": [
    {
     "name": "stdout",
     "output_type": "stream",
     "text": [
      "[3050 2261 1107 ...  766  782  715]\n",
      "(3456,)\n"
     ]
    }
   ],
   "source": [
    "print(s)\n",
    "print(np.shape(s))"
   ]
  },
  {
   "cell_type": "code",
   "execution_count": 30,
   "metadata": {},
   "outputs": [
    {
     "name": "stdout",
     "output_type": "stream",
     "text": [
      "(3456, 4000)\n"
     ]
    }
   ],
   "source": [
    "#f=open(\"Histo.hiss\",\"rb\")\n",
    "#Arr= np.array(pickle.load(f))\n",
    "Arr=np.load(\"../files/Histogram_4000.npy\")\n",
    "# from sklearn.feature_extraction.text import TfidfTransformer\n",
    "# tfr = TfidfTransformer(smooth_idf=False)\n",
    "# transf=tfr.fit_transform(Arr)\n",
    "print(Arr.shape)\n",
    "k= transf.toarray()\n",
    "f.close()\n",
    "X=Arr[s]"
   ]
  },
  {
   "cell_type": "code",
   "execution_count": 31,
   "metadata": {},
   "outputs": [
    {
     "name": "stdout",
     "output_type": "stream",
     "text": [
      "3456\n",
      "[0. 0. 0. ... 0. 0. 0.]\n"
     ]
    }
   ],
   "source": [
    "print(len(X) )\n",
    "print(X[0])"
   ]
  },
  {
   "cell_type": "code",
   "execution_count": 32,
   "metadata": {},
   "outputs": [],
   "source": [
    "from sklearn import preprocessing\n",
    "scaler = preprocessing.StandardScaler().fit(X)\n",
    "X = scaler.transform(X)"
   ]
  },
  {
   "cell_type": "code",
   "execution_count": 33,
   "metadata": {},
   "outputs": [
    {
     "name": "stdout",
     "output_type": "stream",
     "text": [
      "3456\n",
      "[-0.25868135 -0.19171338 -0.64677337 ... -0.21151838 -0.19177604\n",
      " -0.24687219]\n"
     ]
    }
   ],
   "source": [
    "print(len(X) )\n",
    "print(X[0])"
   ]
  },
  {
   "cell_type": "code",
   "execution_count": 34,
   "metadata": {},
   "outputs": [],
   "source": [
    "Y= K[s]"
   ]
  },
  {
   "cell_type": "code",
   "execution_count": 35,
   "metadata": {},
   "outputs": [
    {
     "name": "stdout",
     "output_type": "stream",
     "text": [
      "(3456,)\n"
     ]
    }
   ],
   "source": [
    "print(Y.shape)"
   ]
  },
  {
   "cell_type": "code",
   "execution_count": 36,
   "metadata": {},
   "outputs": [],
   "source": [
    "from sklearn.model_selection import train_test_split  \n",
    "X_train, X_test, y_train, y_test = train_test_split(X, Y, test_size = 0.20)  "
   ]
  },
  {
   "cell_type": "code",
   "execution_count": 37,
   "metadata": {},
   "outputs": [
    {
     "name": "stdout",
     "output_type": "stream",
     "text": [
      "['pringles_bbq' 'pringles_bbq' 'clif_crunch_chocolate_chip' ...\n",
      " 'coca_cola_glass_bottle' 'vo5_split_ends_anti_breakage_shampoo'\n",
      " '3m_high_tack_spray_adhesive']\n"
     ]
    }
   ],
   "source": [
    "print(y_train)"
   ]
  },
  {
   "cell_type": "code",
   "execution_count": 38,
   "metadata": {},
   "outputs": [],
   "source": [
    "'''from sklearn.svm import SVC  \n",
    "svclassifier = SVC(kernel='rbf')  \n",
    "svclassifier.fit(X_train, y_train)  \n",
    "'''\n",
    "from sklearn.svm import LinearSVC"
   ]
  },
  {
   "cell_type": "code",
   "execution_count": 39,
   "metadata": {},
   "outputs": [
    {
     "name": "stdout",
     "output_type": "stream",
     "text": [
      "C = 0.0001 ,\t Accuracy: 98.84393063583815 %\n",
      "C = 0.00208 ,\t Accuracy: 99.56647398843931 %\n",
      "C = 0.00406 ,\t Accuracy: 99.56647398843931 %\n",
      "C = 0.00604 ,\t Accuracy: 99.56647398843931 %\n",
      "C = 0.00802 ,\t Accuracy: 99.56647398843931 %\n",
      "C = 0.009999999999999998 ,\t Accuracy: 99.56647398843931 %\n",
      "C = 0.01198 ,\t Accuracy: 99.56647398843931 %\n",
      "C = 0.01396 ,\t Accuracy: 99.56647398843931 %\n",
      "C = 0.01594 ,\t Accuracy: 99.56647398843931 %\n",
      "C = 0.01792 ,\t Accuracy: 99.56647398843931 %\n",
      "C = 0.019899999999999998 ,\t Accuracy: 99.56647398843931 %\n",
      "C = 0.02188 ,\t Accuracy: 99.42196531791907 %\n",
      "C = 0.02386 ,\t Accuracy: 99.42196531791907 %\n",
      "C = 0.02584 ,\t Accuracy: 99.42196531791907 %\n",
      "C = 0.02782 ,\t Accuracy: 99.42196531791907 %\n",
      "C = 0.0298 ,\t Accuracy: 99.42196531791907 %\n",
      "C = 0.03178 ,\t Accuracy: 99.42196531791907 %\n",
      "C = 0.033760000000000005 ,\t Accuracy: 99.42196531791907 %\n",
      "C = 0.03574 ,\t Accuracy: 99.42196531791907 %\n",
      "C = 0.037720000000000004 ,\t Accuracy: 99.42196531791907 %\n",
      "C = 0.0397 ,\t Accuracy: 99.42196531791907 %\n",
      "C = 0.04168 ,\t Accuracy: 99.42196531791907 %\n",
      "C = 0.043660000000000004 ,\t Accuracy: 99.42196531791907 %\n",
      "C = 0.04564 ,\t Accuracy: 99.42196531791907 %\n"
     ]
    },
    {
     "ename": "KeyboardInterrupt",
     "evalue": "",
     "output_type": "error",
     "traceback": [
      "\u001b[0;31m---------------------------------------------------------------------------\u001b[0m",
      "\u001b[0;31mKeyboardInterrupt\u001b[0m                         Traceback (most recent call last)",
      "\u001b[0;32m<ipython-input-39-e9a8717c8b1e>\u001b[0m in \u001b[0;36m<module>\u001b[0;34m\u001b[0m\n\u001b[1;32m      1\u001b[0m \u001b[0;32mfor\u001b[0m \u001b[0mc\u001b[0m \u001b[0;32min\u001b[0m \u001b[0mnp\u001b[0m\u001b[0;34m.\u001b[0m\u001b[0marange\u001b[0m\u001b[0;34m(\u001b[0m\u001b[0;36m0.0001\u001b[0m\u001b[0;34m,\u001b[0m \u001b[0;36m0.1\u001b[0m\u001b[0;34m,\u001b[0m \u001b[0;36m0.00198\u001b[0m\u001b[0;34m)\u001b[0m\u001b[0;34m:\u001b[0m\u001b[0;34m\u001b[0m\u001b[0m\n\u001b[1;32m      2\u001b[0m     \u001b[0mclf\u001b[0m \u001b[0;34m=\u001b[0m \u001b[0mLinearSVC\u001b[0m\u001b[0;34m(\u001b[0m\u001b[0mrandom_state\u001b[0m\u001b[0;34m=\u001b[0m\u001b[0;36m0\u001b[0m\u001b[0;34m,\u001b[0m \u001b[0mC\u001b[0m\u001b[0;34m=\u001b[0m\u001b[0mc\u001b[0m\u001b[0;34m)\u001b[0m\u001b[0;34m\u001b[0m\u001b[0m\n\u001b[0;32m----> 3\u001b[0;31m     \u001b[0mclf\u001b[0m\u001b[0;34m.\u001b[0m\u001b[0mfit\u001b[0m\u001b[0;34m(\u001b[0m\u001b[0mX_train\u001b[0m\u001b[0;34m,\u001b[0m \u001b[0my_train\u001b[0m\u001b[0;34m)\u001b[0m\u001b[0;34m\u001b[0m\u001b[0m\n\u001b[0m\u001b[1;32m      4\u001b[0m     \u001b[0mpredict\u001b[0m \u001b[0;34m=\u001b[0m \u001b[0mclf\u001b[0m\u001b[0;34m.\u001b[0m\u001b[0mpredict\u001b[0m\u001b[0;34m(\u001b[0m\u001b[0mX_test\u001b[0m\u001b[0;34m)\u001b[0m\u001b[0;34m\u001b[0m\u001b[0m\n\u001b[1;32m      5\u001b[0m     \u001b[0mprint\u001b[0m \u001b[0;34m(\u001b[0m\u001b[0;34m\"C =\"\u001b[0m\u001b[0;34m,\u001b[0m \u001b[0mc\u001b[0m\u001b[0;34m,\u001b[0m \u001b[0;34m\",\\t Accuracy:\"\u001b[0m\u001b[0;34m,\u001b[0m \u001b[0mnp\u001b[0m\u001b[0;34m.\u001b[0m\u001b[0mmean\u001b[0m\u001b[0;34m(\u001b[0m\u001b[0mpredict\u001b[0m \u001b[0;34m==\u001b[0m \u001b[0my_test\u001b[0m\u001b[0;34m)\u001b[0m\u001b[0;34m*\u001b[0m\u001b[0;36m100\u001b[0m\u001b[0;34m,\u001b[0m \u001b[0;34m\"%\"\u001b[0m\u001b[0;34m)\u001b[0m\u001b[0;34m\u001b[0m\u001b[0m\n",
      "\u001b[0;32m/usr/local/lib/python3.5/dist-packages/sklearn/svm/classes.py\u001b[0m in \u001b[0;36mfit\u001b[0;34m(self, X, y, sample_weight)\u001b[0m\n\u001b[1;32m    235\u001b[0m             \u001b[0mself\u001b[0m\u001b[0;34m.\u001b[0m\u001b[0mclass_weight\u001b[0m\u001b[0;34m,\u001b[0m \u001b[0mself\u001b[0m\u001b[0;34m.\u001b[0m\u001b[0mpenalty\u001b[0m\u001b[0;34m,\u001b[0m \u001b[0mself\u001b[0m\u001b[0;34m.\u001b[0m\u001b[0mdual\u001b[0m\u001b[0;34m,\u001b[0m \u001b[0mself\u001b[0m\u001b[0;34m.\u001b[0m\u001b[0mverbose\u001b[0m\u001b[0;34m,\u001b[0m\u001b[0;34m\u001b[0m\u001b[0m\n\u001b[1;32m    236\u001b[0m             \u001b[0mself\u001b[0m\u001b[0;34m.\u001b[0m\u001b[0mmax_iter\u001b[0m\u001b[0;34m,\u001b[0m \u001b[0mself\u001b[0m\u001b[0;34m.\u001b[0m\u001b[0mtol\u001b[0m\u001b[0;34m,\u001b[0m \u001b[0mself\u001b[0m\u001b[0;34m.\u001b[0m\u001b[0mrandom_state\u001b[0m\u001b[0;34m,\u001b[0m \u001b[0mself\u001b[0m\u001b[0;34m.\u001b[0m\u001b[0mmulti_class\u001b[0m\u001b[0;34m,\u001b[0m\u001b[0;34m\u001b[0m\u001b[0m\n\u001b[0;32m--> 237\u001b[0;31m             self.loss, sample_weight=sample_weight)\n\u001b[0m\u001b[1;32m    238\u001b[0m \u001b[0;34m\u001b[0m\u001b[0m\n\u001b[1;32m    239\u001b[0m         \u001b[0;32mif\u001b[0m \u001b[0mself\u001b[0m\u001b[0;34m.\u001b[0m\u001b[0mmulti_class\u001b[0m \u001b[0;34m==\u001b[0m \u001b[0;34m\"crammer_singer\"\u001b[0m \u001b[0;32mand\u001b[0m \u001b[0mlen\u001b[0m\u001b[0;34m(\u001b[0m\u001b[0mself\u001b[0m\u001b[0;34m.\u001b[0m\u001b[0mclasses_\u001b[0m\u001b[0;34m)\u001b[0m \u001b[0;34m==\u001b[0m \u001b[0;36m2\u001b[0m\u001b[0;34m:\u001b[0m\u001b[0;34m\u001b[0m\u001b[0m\n",
      "\u001b[0;32m/usr/local/lib/python3.5/dist-packages/sklearn/svm/base.py\u001b[0m in \u001b[0;36m_fit_liblinear\u001b[0;34m(X, y, C, fit_intercept, intercept_scaling, class_weight, penalty, dual, verbose, max_iter, tol, random_state, multi_class, loss, epsilon, sample_weight)\u001b[0m\n\u001b[1;32m    912\u001b[0m         \u001b[0mX\u001b[0m\u001b[0;34m,\u001b[0m \u001b[0my_ind\u001b[0m\u001b[0;34m,\u001b[0m \u001b[0msp\u001b[0m\u001b[0;34m.\u001b[0m\u001b[0misspmatrix\u001b[0m\u001b[0;34m(\u001b[0m\u001b[0mX\u001b[0m\u001b[0;34m)\u001b[0m\u001b[0;34m,\u001b[0m \u001b[0msolver_type\u001b[0m\u001b[0;34m,\u001b[0m \u001b[0mtol\u001b[0m\u001b[0;34m,\u001b[0m \u001b[0mbias\u001b[0m\u001b[0;34m,\u001b[0m \u001b[0mC\u001b[0m\u001b[0;34m,\u001b[0m\u001b[0;34m\u001b[0m\u001b[0m\n\u001b[1;32m    913\u001b[0m         \u001b[0mclass_weight_\u001b[0m\u001b[0;34m,\u001b[0m \u001b[0mmax_iter\u001b[0m\u001b[0;34m,\u001b[0m \u001b[0mrnd\u001b[0m\u001b[0;34m.\u001b[0m\u001b[0mrandint\u001b[0m\u001b[0;34m(\u001b[0m\u001b[0mnp\u001b[0m\u001b[0;34m.\u001b[0m\u001b[0miinfo\u001b[0m\u001b[0;34m(\u001b[0m\u001b[0;34m'i'\u001b[0m\u001b[0;34m)\u001b[0m\u001b[0;34m.\u001b[0m\u001b[0mmax\u001b[0m\u001b[0;34m)\u001b[0m\u001b[0;34m,\u001b[0m\u001b[0;34m\u001b[0m\u001b[0m\n\u001b[0;32m--> 914\u001b[0;31m         epsilon, sample_weight)\n\u001b[0m\u001b[1;32m    915\u001b[0m     \u001b[0;31m# Regarding rnd.randint(..) in the above signature:\u001b[0m\u001b[0;34m\u001b[0m\u001b[0;34m\u001b[0m\u001b[0m\n\u001b[1;32m    916\u001b[0m     \u001b[0;31m# seed for srand in range [0..INT_MAX); due to limitations in Numpy\u001b[0m\u001b[0;34m\u001b[0m\u001b[0;34m\u001b[0m\u001b[0m\n",
      "\u001b[0;31mKeyboardInterrupt\u001b[0m: "
     ]
    }
   ],
   "source": [
    "for c in np.arange(0.0001, 0.1, 0.00198):\n",
    "    clf = LinearSVC(random_state=0, C=c)\n",
    "    clf.fit(X_train, y_train)\n",
    "    predict = clf.predict(X_test)\n",
    "    print (\"C =\", c, \",\\t Accuracy:\", np.mean(predict == y_test)*100, \"%\")"
   ]
  },
  {
   "cell_type": "code",
   "execution_count": 40,
   "metadata": {},
   "outputs": [
    {
     "name": "stdout",
     "output_type": "stream",
     "text": [
      "[[46  0  0  0  0  0  0  0  0  0  0  0  0  0  0  0]\n",
      " [ 0 28  0  0  0  0  0  0  0  0  0  0  0  0  0  0]\n",
      " [ 0  0 45  0  0  0  0  0  0  0  0  0  0  0  0  0]\n",
      " [ 0  0  0 37  0  0  0  0  0  0  0  0  0  0  0  0]\n",
      " [ 0  0  0  0 36  0  0  0  0  0  0  0  0  0  0  0]\n",
      " [ 0  0  0  0  0 52  0  0  0  0  0  0  0  0  0  0]\n",
      " [ 0  0  0  0  0  0 45  0  0  0  0  0  0  0  0  0]\n",
      " [ 0  0  0  0  0  0  0 31  0  0  0  0  0  0  0  0]\n",
      " [ 0  0  0  0  0  0  0  0 50  0  0  0  0  0  0  0]\n",
      " [ 0  0  0  0  1  0  0  0  0 52  0  0  0  0  0  0]\n",
      " [ 0  0  0  0  0  0  0  0  0  0 47  0  0  0  0  0]\n",
      " [ 0  0  0  0  0  0  0  0  0  0  0 43  0  0  0  0]\n",
      " [ 0  0  0  0  0  0  0  0  0  0  0  0 50  0  0  0]\n",
      " [ 0  0  0  0  0  0  0  0  0  0  0  0  0 43  0  0]\n",
      " [ 0  0  0  0  0  0  0  0  0  0  0  0  0  0 44  0]\n",
      " [ 0  0  0  0  0  0  0  0  0  0  0  0  0  0  2 40]]\n",
      "                                      precision    recall  f1-score   support\n",
      "\n",
      "         3m_high_tack_spray_adhesive       1.00      1.00      1.00        46\n",
      "          aunt_jemima_original_syrup       1.00      1.00      1.00        28\n",
      "       campbells_chicken_noodle_soup       1.00      1.00      1.00        45\n",
      "              cheez_it_white_cheddar       1.00      1.00      1.00        37\n",
      "          cholula_chipotle_hot_sauce       0.97      1.00      0.99        36\n",
      "          clif_crunch_chocolate_chip       1.00      1.00      1.00        52\n",
      "              coca_cola_glass_bottle       1.00      1.00      1.00        45\n",
      "                           detergent       1.00      1.00      1.00        31\n",
      "                     expo_marker_red       1.00      1.00      1.00        50\n",
      "                     listerine_green       1.00      0.98      0.99        53\n",
      "          nice_honey_roasted_almonds       1.00      1.00      1.00        47\n",
      "           nutrigrain_apple_cinnamon       1.00      1.00      1.00        43\n",
      "                     palmolive_green       1.00      1.00      1.00        50\n",
      "                        pringles_bbq       1.00      1.00      1.00        43\n",
      "   vo5_extra_body_volumizing_shampoo       0.96      1.00      0.98        44\n",
      "vo5_split_ends_anti_breakage_shampoo       1.00      0.95      0.98        42\n",
      "\n",
      "                           micro avg       1.00      1.00      1.00       692\n",
      "                           macro avg       1.00      1.00      1.00       692\n",
      "                        weighted avg       1.00      1.00      1.00       692\n",
      "\n"
     ]
    }
   ],
   "source": [
    "clf = LinearSVC(random_state=0, C=0.00604)\n",
    "clf.fit(X_train, y_train)\n",
    "y_pred = clf.predict(X_test)\n",
    "from sklearn.metrics import classification_report, confusion_matrix  \n",
    "print(confusion_matrix(y_test, y_pred))  \n",
    "print(classification_report(y_test, y_pred))  "
   ]
  },
  {
   "cell_type": "code",
   "execution_count": 41,
   "metadata": {},
   "outputs": [
    {
     "name": "stdout",
     "output_type": "stream",
     "text": [
      "['listerine_green' 'pringles_bbq' 'detergent' 'palmolive_green'\n",
      " 'vo5_split_ends_anti_breakage_shampoo' 'coca_cola_glass_bottle'\n",
      " 'pringles_bbq' 'vo5_split_ends_anti_breakage_shampoo' 'palmolive_green'\n",
      " 'detergent' 'clif_crunch_chocolate_chip' 'listerine_green'\n",
      " 'aunt_jemima_original_syrup' 'clif_crunch_chocolate_chip'\n",
      " 'listerine_green' 'clif_crunch_chocolate_chip'\n",
      " 'campbells_chicken_noodle_soup' 'coca_cola_glass_bottle'\n",
      " 'listerine_green' 'nice_honey_roasted_almonds' 'palmolive_green'\n",
      " 'pringles_bbq' 'expo_marker_red' '3m_high_tack_spray_adhesive'\n",
      " 'campbells_chicken_noodle_soup' 'clif_crunch_chocolate_chip'\n",
      " 'palmolive_green' 'nutrigrain_apple_cinnamon'\n",
      " 'campbells_chicken_noodle_soup' 'campbells_chicken_noodle_soup'\n",
      " 'vo5_split_ends_anti_breakage_shampoo' 'listerine_green'\n",
      " 'cheez_it_white_cheddar' 'listerine_green' 'aunt_jemima_original_syrup'\n",
      " 'aunt_jemima_original_syrup' 'nice_honey_roasted_almonds'\n",
      " 'clif_crunch_chocolate_chip' 'clif_crunch_chocolate_chip' 'pringles_bbq'\n",
      " 'campbells_chicken_noodle_soup' 'palmolive_green'\n",
      " 'cholula_chipotle_hot_sauce' 'campbells_chicken_noodle_soup'\n",
      " 'listerine_green' 'detergent' 'campbells_chicken_noodle_soup'\n",
      " 'palmolive_green' 'vo5_split_ends_anti_breakage_shampoo'\n",
      " 'cheez_it_white_cheddar' 'nice_honey_roasted_almonds'\n",
      " 'cheez_it_white_cheddar' 'cheez_it_white_cheddar'\n",
      " 'nutrigrain_apple_cinnamon' 'pringles_bbq' 'listerine_green'\n",
      " 'campbells_chicken_noodle_soup' 'expo_marker_red'\n",
      " 'aunt_jemima_original_syrup' 'vo5_extra_body_volumizing_shampoo'\n",
      " '3m_high_tack_spray_adhesive' 'cholula_chipotle_hot_sauce'\n",
      " 'nutrigrain_apple_cinnamon' '3m_high_tack_spray_adhesive'\n",
      " 'nice_honey_roasted_almonds' 'expo_marker_red'\n",
      " 'vo5_split_ends_anti_breakage_shampoo' 'expo_marker_red'\n",
      " 'expo_marker_red' 'cheez_it_white_cheddar' 'coca_cola_glass_bottle'\n",
      " 'cholula_chipotle_hot_sauce' 'pringles_bbq' 'nice_honey_roasted_almonds'\n",
      " 'vo5_extra_body_volumizing_shampoo' 'listerine_green'\n",
      " 'coca_cola_glass_bottle' 'cholula_chipotle_hot_sauce' 'expo_marker_red'\n",
      " 'nice_honey_roasted_almonds' 'nice_honey_roasted_almonds'\n",
      " 'vo5_extra_body_volumizing_shampoo' 'pringles_bbq'\n",
      " 'nice_honey_roasted_almonds' 'listerine_green' 'palmolive_green'\n",
      " 'nutrigrain_apple_cinnamon' 'vo5_split_ends_anti_breakage_shampoo'\n",
      " 'aunt_jemima_original_syrup' 'expo_marker_red'\n",
      " 'vo5_extra_body_volumizing_shampoo' 'palmolive_green'\n",
      " '3m_high_tack_spray_adhesive' 'nutrigrain_apple_cinnamon'\n",
      " 'nice_honey_roasted_almonds' 'pringles_bbq' 'clif_crunch_chocolate_chip'\n",
      " 'listerine_green' 'vo5_extra_body_volumizing_shampoo' 'expo_marker_red'\n",
      " 'clif_crunch_chocolate_chip' 'palmolive_green'\n",
      " 'campbells_chicken_noodle_soup' 'campbells_chicken_noodle_soup'\n",
      " 'nutrigrain_apple_cinnamon' 'nutrigrain_apple_cinnamon'\n",
      " 'vo5_split_ends_anti_breakage_shampoo' 'nice_honey_roasted_almonds'\n",
      " 'palmolive_green' 'nice_honey_roasted_almonds' 'expo_marker_red'\n",
      " 'pringles_bbq' 'pringles_bbq' 'campbells_chicken_noodle_soup'\n",
      " 'nice_honey_roasted_almonds' 'pringles_bbq' 'cheez_it_white_cheddar'\n",
      " 'pringles_bbq' 'vo5_extra_body_volumizing_shampoo' 'palmolive_green'\n",
      " 'vo5_extra_body_volumizing_shampoo' 'clif_crunch_chocolate_chip'\n",
      " 'pringles_bbq' 'detergent' 'coca_cola_glass_bottle' 'expo_marker_red'\n",
      " 'cholula_chipotle_hot_sauce' 'cholula_chipotle_hot_sauce'\n",
      " 'nice_honey_roasted_almonds' 'vo5_extra_body_volumizing_shampoo'\n",
      " 'campbells_chicken_noodle_soup' 'vo5_extra_body_volumizing_shampoo'\n",
      " 'listerine_green' '3m_high_tack_spray_adhesive'\n",
      " 'aunt_jemima_original_syrup' 'listerine_green' 'listerine_green'\n",
      " 'expo_marker_red' 'listerine_green' 'detergent'\n",
      " 'cholula_chipotle_hot_sauce' 'vo5_split_ends_anti_breakage_shampoo'\n",
      " 'cholula_chipotle_hot_sauce' '3m_high_tack_spray_adhesive'\n",
      " 'clif_crunch_chocolate_chip' 'nutrigrain_apple_cinnamon'\n",
      " 'nutrigrain_apple_cinnamon' 'cheez_it_white_cheddar' 'palmolive_green'\n",
      " 'cheez_it_white_cheddar' 'nutrigrain_apple_cinnamon'\n",
      " 'cheez_it_white_cheddar' 'coca_cola_glass_bottle'\n",
      " 'vo5_split_ends_anti_breakage_shampoo' 'nice_honey_roasted_almonds'\n",
      " '3m_high_tack_spray_adhesive' 'nice_honey_roasted_almonds'\n",
      " 'cholula_chipotle_hot_sauce' 'vo5_extra_body_volumizing_shampoo'\n",
      " 'campbells_chicken_noodle_soup' 'nice_honey_roasted_almonds'\n",
      " 'clif_crunch_chocolate_chip' 'vo5_split_ends_anti_breakage_shampoo'\n",
      " 'campbells_chicken_noodle_soup' 'listerine_green'\n",
      " 'coca_cola_glass_bottle' 'vo5_extra_body_volumizing_shampoo'\n",
      " 'cheez_it_white_cheddar' 'listerine_green'\n",
      " 'campbells_chicken_noodle_soup' 'nutrigrain_apple_cinnamon' 'detergent'\n",
      " 'pringles_bbq' 'vo5_split_ends_anti_breakage_shampoo'\n",
      " 'campbells_chicken_noodle_soup' 'cholula_chipotle_hot_sauce'\n",
      " 'cheez_it_white_cheddar' 'campbells_chicken_noodle_soup'\n",
      " 'cheez_it_white_cheddar' 'aunt_jemima_original_syrup'\n",
      " 'coca_cola_glass_bottle' '3m_high_tack_spray_adhesive' 'listerine_green'\n",
      " 'cholula_chipotle_hot_sauce' 'vo5_extra_body_volumizing_shampoo'\n",
      " 'expo_marker_red' 'cholula_chipotle_hot_sauce'\n",
      " 'clif_crunch_chocolate_chip' 'nutrigrain_apple_cinnamon'\n",
      " 'nutrigrain_apple_cinnamon' 'vo5_split_ends_anti_breakage_shampoo'\n",
      " '3m_high_tack_spray_adhesive' 'coca_cola_glass_bottle'\n",
      " 'cheez_it_white_cheddar' 'listerine_green' 'cholula_chipotle_hot_sauce'\n",
      " 'expo_marker_red' 'nice_honey_roasted_almonds'\n",
      " '3m_high_tack_spray_adhesive' 'expo_marker_red' 'pringles_bbq'\n",
      " 'vo5_extra_body_volumizing_shampoo' 'expo_marker_red'\n",
      " 'aunt_jemima_original_syrup' 'vo5_split_ends_anti_breakage_shampoo'\n",
      " 'cholula_chipotle_hot_sauce' 'listerine_green'\n",
      " 'vo5_split_ends_anti_breakage_shampoo' '3m_high_tack_spray_adhesive'\n",
      " 'vo5_split_ends_anti_breakage_shampoo' 'expo_marker_red' 'pringles_bbq'\n",
      " 'palmolive_green' '3m_high_tack_spray_adhesive'\n",
      " 'campbells_chicken_noodle_soup' 'vo5_extra_body_volumizing_shampoo'\n",
      " 'detergent' 'listerine_green' 'expo_marker_red'\n",
      " 'vo5_split_ends_anti_breakage_shampoo' 'nice_honey_roasted_almonds'\n",
      " '3m_high_tack_spray_adhesive' 'nice_honey_roasted_almonds'\n",
      " 'listerine_green' 'nice_honey_roasted_almonds' 'listerine_green'\n",
      " 'nutrigrain_apple_cinnamon' 'palmolive_green'\n",
      " 'clif_crunch_chocolate_chip' 'pringles_bbq' 'clif_crunch_chocolate_chip'\n",
      " 'clif_crunch_chocolate_chip' 'cheez_it_white_cheddar'\n",
      " 'coca_cola_glass_bottle' 'expo_marker_red' 'coca_cola_glass_bottle'\n",
      " 'detergent' 'clif_crunch_chocolate_chip' 'palmolive_green'\n",
      " 'expo_marker_red' 'cholula_chipotle_hot_sauce'\n",
      " 'vo5_split_ends_anti_breakage_shampoo' 'campbells_chicken_noodle_soup'\n",
      " 'aunt_jemima_original_syrup' 'cheez_it_white_cheddar'\n",
      " 'coca_cola_glass_bottle' 'cheez_it_white_cheddar'\n",
      " 'cholula_chipotle_hot_sauce' '3m_high_tack_spray_adhesive'\n",
      " '3m_high_tack_spray_adhesive' 'coca_cola_glass_bottle' 'palmolive_green'\n",
      " 'clif_crunch_chocolate_chip' 'pringles_bbq' 'nutrigrain_apple_cinnamon'\n",
      " 'detergent' 'nice_honey_roasted_almonds' 'nice_honey_roasted_almonds'\n",
      " 'vo5_extra_body_volumizing_shampoo' 'nutrigrain_apple_cinnamon'\n",
      " 'aunt_jemima_original_syrup' 'listerine_green' 'coca_cola_glass_bottle'\n",
      " 'clif_crunch_chocolate_chip' 'expo_marker_red'\n",
      " 'vo5_split_ends_anti_breakage_shampoo' 'expo_marker_red'\n",
      " 'vo5_split_ends_anti_breakage_shampoo' '3m_high_tack_spray_adhesive'\n",
      " 'clif_crunch_chocolate_chip' 'listerine_green' 'expo_marker_red'\n",
      " 'listerine_green' 'coca_cola_glass_bottle' 'aunt_jemima_original_syrup'\n",
      " 'nutrigrain_apple_cinnamon' 'vo5_split_ends_anti_breakage_shampoo'\n",
      " 'aunt_jemima_original_syrup' 'coca_cola_glass_bottle' 'listerine_green'\n",
      " 'nutrigrain_apple_cinnamon' 'vo5_extra_body_volumizing_shampoo'\n",
      " 'pringles_bbq' 'vo5_split_ends_anti_breakage_shampoo'\n",
      " 'coca_cola_glass_bottle' 'expo_marker_red' '3m_high_tack_spray_adhesive'\n",
      " 'vo5_split_ends_anti_breakage_shampoo' 'coca_cola_glass_bottle'\n",
      " 'listerine_green' 'vo5_extra_body_volumizing_shampoo' 'listerine_green'\n",
      " 'expo_marker_red' 'expo_marker_red' '3m_high_tack_spray_adhesive'\n",
      " 'detergent' 'cheez_it_white_cheddar' 'detergent' 'palmolive_green'\n",
      " 'cholula_chipotle_hot_sauce' 'expo_marker_red'\n",
      " '3m_high_tack_spray_adhesive' 'expo_marker_red'\n",
      " 'vo5_split_ends_anti_breakage_shampoo' 'pringles_bbq'\n",
      " 'coca_cola_glass_bottle' 'detergent' 'campbells_chicken_noodle_soup'\n",
      " 'cholula_chipotle_hot_sauce' 'vo5_extra_body_volumizing_shampoo'\n",
      " 'listerine_green' 'aunt_jemima_original_syrup'\n",
      " 'clif_crunch_chocolate_chip' 'cholula_chipotle_hot_sauce'\n",
      " 'cholula_chipotle_hot_sauce' 'campbells_chicken_noodle_soup'\n",
      " 'listerine_green' 'listerine_green' 'vo5_extra_body_volumizing_shampoo'\n",
      " 'coca_cola_glass_bottle' 'vo5_extra_body_volumizing_shampoo'\n",
      " 'cholula_chipotle_hot_sauce' 'listerine_green' 'detergent' 'pringles_bbq'\n",
      " 'palmolive_green' 'coca_cola_glass_bottle' 'listerine_green'\n",
      " 'aunt_jemima_original_syrup' 'aunt_jemima_original_syrup'\n",
      " 'palmolive_green' '3m_high_tack_spray_adhesive' 'detergent'\n",
      " '3m_high_tack_spray_adhesive' 'nutrigrain_apple_cinnamon'\n",
      " 'aunt_jemima_original_syrup' 'campbells_chicken_noodle_soup'\n",
      " 'palmolive_green' 'palmolive_green' 'expo_marker_red'\n",
      " 'clif_crunch_chocolate_chip' 'palmolive_green'\n",
      " 'vo5_split_ends_anti_breakage_shampoo' 'nutrigrain_apple_cinnamon'\n",
      " 'coca_cola_glass_bottle' 'coca_cola_glass_bottle'\n",
      " 'nice_honey_roasted_almonds' 'listerine_green'\n",
      " 'vo5_extra_body_volumizing_shampoo'\n",
      " 'vo5_split_ends_anti_breakage_shampoo' 'aunt_jemima_original_syrup'\n",
      " 'palmolive_green' 'nice_honey_roasted_almonds'\n",
      " 'nice_honey_roasted_almonds' 'clif_crunch_chocolate_chip'\n",
      " 'cholula_chipotle_hot_sauce' 'campbells_chicken_noodle_soup'\n",
      " 'pringles_bbq' 'clif_crunch_chocolate_chip'\n",
      " 'vo5_extra_body_volumizing_shampoo' 'coca_cola_glass_bottle'\n",
      " 'vo5_split_ends_anti_breakage_shampoo' 'detergent'\n",
      " 'nice_honey_roasted_almonds' 'expo_marker_red' 'pringles_bbq' 'detergent'\n",
      " 'vo5_split_ends_anti_breakage_shampoo'\n",
      " 'vo5_extra_body_volumizing_shampoo' 'expo_marker_red' 'expo_marker_red'\n",
      " 'coca_cola_glass_bottle' 'nutrigrain_apple_cinnamon' 'palmolive_green'\n",
      " 'expo_marker_red' 'aunt_jemima_original_syrup' 'cheez_it_white_cheddar'\n",
      " 'aunt_jemima_original_syrup' 'vo5_extra_body_volumizing_shampoo'\n",
      " 'vo5_extra_body_volumizing_shampoo' 'nice_honey_roasted_almonds'\n",
      " 'palmolive_green' 'nutrigrain_apple_cinnamon'\n",
      " 'vo5_split_ends_anti_breakage_shampoo'\n",
      " 'vo5_extra_body_volumizing_shampoo' 'listerine_green'\n",
      " 'clif_crunch_chocolate_chip' 'campbells_chicken_noodle_soup'\n",
      " 'clif_crunch_chocolate_chip' 'clif_crunch_chocolate_chip'\n",
      " 'nice_honey_roasted_almonds' 'expo_marker_red' 'detergent' 'detergent'\n",
      " 'palmolive_green' 'detergent' 'expo_marker_red'\n",
      " 'vo5_split_ends_anti_breakage_shampoo' 'cheez_it_white_cheddar'\n",
      " 'nutrigrain_apple_cinnamon' 'clif_crunch_chocolate_chip'\n",
      " 'cheez_it_white_cheddar' 'pringles_bbq' 'listerine_green' 'pringles_bbq'\n",
      " 'palmolive_green' 'cheez_it_white_cheddar' 'detergent' 'expo_marker_red'\n",
      " 'aunt_jemima_original_syrup' 'expo_marker_red'\n",
      " 'vo5_extra_body_volumizing_shampoo' 'expo_marker_red'\n",
      " 'nice_honey_roasted_almonds' 'cheez_it_white_cheddar'\n",
      " 'nice_honey_roasted_almonds' 'cholula_chipotle_hot_sauce' 'pringles_bbq'\n",
      " 'expo_marker_red' 'vo5_extra_body_volumizing_shampoo' 'palmolive_green'\n",
      " 'aunt_jemima_original_syrup' 'listerine_green'\n",
      " 'nutrigrain_apple_cinnamon' 'cheez_it_white_cheddar'\n",
      " 'cheez_it_white_cheddar' 'palmolive_green' '3m_high_tack_spray_adhesive'\n",
      " 'detergent' 'nice_honey_roasted_almonds' 'pringles_bbq'\n",
      " 'nice_honey_roasted_almonds' 'pringles_bbq' 'listerine_green'\n",
      " 'pringles_bbq' 'cholula_chipotle_hot_sauce'\n",
      " 'vo5_extra_body_volumizing_shampoo' 'clif_crunch_chocolate_chip'\n",
      " '3m_high_tack_spray_adhesive' '3m_high_tack_spray_adhesive'\n",
      " 'coca_cola_glass_bottle' 'listerine_green' 'pringles_bbq'\n",
      " '3m_high_tack_spray_adhesive' 'nice_honey_roasted_almonds'\n",
      " 'clif_crunch_chocolate_chip' 'vo5_extra_body_volumizing_shampoo'\n",
      " 'nice_honey_roasted_almonds' '3m_high_tack_spray_adhesive'\n",
      " 'clif_crunch_chocolate_chip' 'nice_honey_roasted_almonds'\n",
      " 'vo5_extra_body_volumizing_shampoo' 'campbells_chicken_noodle_soup'\n",
      " 'cholula_chipotle_hot_sauce' 'nice_honey_roasted_almonds'\n",
      " 'vo5_split_ends_anti_breakage_shampoo' 'listerine_green'\n",
      " 'palmolive_green' 'campbells_chicken_noodle_soup' 'listerine_green'\n",
      " 'palmolive_green' 'campbells_chicken_noodle_soup'\n",
      " 'nice_honey_roasted_almonds' 'cholula_chipotle_hot_sauce'\n",
      " 'nutrigrain_apple_cinnamon' 'aunt_jemima_original_syrup'\n",
      " 'coca_cola_glass_bottle' 'vo5_extra_body_volumizing_shampoo'\n",
      " 'clif_crunch_chocolate_chip' 'cholula_chipotle_hot_sauce'\n",
      " 'cheez_it_white_cheddar' 'campbells_chicken_noodle_soup'\n",
      " 'clif_crunch_chocolate_chip' 'clif_crunch_chocolate_chip'\n",
      " 'campbells_chicken_noodle_soup' 'nutrigrain_apple_cinnamon'\n",
      " 'nutrigrain_apple_cinnamon' 'nutrigrain_apple_cinnamon'\n",
      " 'coca_cola_glass_bottle' 'coca_cola_glass_bottle' 'palmolive_green'\n",
      " 'palmolive_green' 'detergent' 'clif_crunch_chocolate_chip'\n",
      " '3m_high_tack_spray_adhesive' 'campbells_chicken_noodle_soup'\n",
      " 'aunt_jemima_original_syrup' 'vo5_split_ends_anti_breakage_shampoo'\n",
      " 'pringles_bbq' 'nutrigrain_apple_cinnamon' 'detergent' 'expo_marker_red'\n",
      " 'detergent' 'clif_crunch_chocolate_chip' 'campbells_chicken_noodle_soup'\n",
      " 'coca_cola_glass_bottle' '3m_high_tack_spray_adhesive'\n",
      " 'nutrigrain_apple_cinnamon' 'detergent' 'pringles_bbq'\n",
      " 'nutrigrain_apple_cinnamon' 'cholula_chipotle_hot_sauce'\n",
      " 'expo_marker_red' 'listerine_green' 'palmolive_green'\n",
      " 'clif_crunch_chocolate_chip' 'clif_crunch_chocolate_chip'\n",
      " 'palmolive_green' 'cholula_chipotle_hot_sauce' 'listerine_green'\n",
      " 'campbells_chicken_noodle_soup' 'vo5_extra_body_volumizing_shampoo'\n",
      " 'coca_cola_glass_bottle' 'listerine_green' 'detergent'\n",
      " 'nutrigrain_apple_cinnamon' 'listerine_green' 'coca_cola_glass_bottle'\n",
      " 'coca_cola_glass_bottle' 'vo5_extra_body_volumizing_shampoo'\n",
      " '3m_high_tack_spray_adhesive' 'pringles_bbq' 'palmolive_green'\n",
      " 'cholula_chipotle_hot_sauce' 'vo5_split_ends_anti_breakage_shampoo'\n",
      " 'pringles_bbq' 'campbells_chicken_noodle_soup' 'pringles_bbq'\n",
      " 'expo_marker_red' 'detergent' 'cholula_chipotle_hot_sauce'\n",
      " 'vo5_extra_body_volumizing_shampoo' 'expo_marker_red' 'palmolive_green'\n",
      " 'vo5_extra_body_volumizing_shampoo' '3m_high_tack_spray_adhesive'\n",
      " 'clif_crunch_chocolate_chip' 'nice_honey_roasted_almonds'\n",
      " 'cholula_chipotle_hot_sauce' 'nutrigrain_apple_cinnamon'\n",
      " 'expo_marker_red' '3m_high_tack_spray_adhesive' 'cheez_it_white_cheddar'\n",
      " '3m_high_tack_spray_adhesive' 'coca_cola_glass_bottle' 'palmolive_green'\n",
      " 'clif_crunch_chocolate_chip' 'cholula_chipotle_hot_sauce'\n",
      " 'palmolive_green' 'campbells_chicken_noodle_soup'\n",
      " 'nutrigrain_apple_cinnamon' 'cheez_it_white_cheddar'\n",
      " 'vo5_split_ends_anti_breakage_shampoo' 'nutrigrain_apple_cinnamon'\n",
      " 'coca_cola_glass_bottle' 'vo5_split_ends_anti_breakage_shampoo'\n",
      " 'vo5_split_ends_anti_breakage_shampoo' 'coca_cola_glass_bottle'\n",
      " '3m_high_tack_spray_adhesive' 'coca_cola_glass_bottle'\n",
      " '3m_high_tack_spray_adhesive' 'clif_crunch_chocolate_chip'\n",
      " 'palmolive_green' 'listerine_green' 'pringles_bbq' 'expo_marker_red'\n",
      " 'pringles_bbq' 'cheez_it_white_cheddar' 'coca_cola_glass_bottle'\n",
      " 'expo_marker_red' 'campbells_chicken_noodle_soup'\n",
      " '3m_high_tack_spray_adhesive' 'campbells_chicken_noodle_soup'\n",
      " 'coca_cola_glass_bottle' 'palmolive_green' 'cheez_it_white_cheddar'\n",
      " '3m_high_tack_spray_adhesive' 'listerine_green'\n",
      " '3m_high_tack_spray_adhesive' 'pringles_bbq'\n",
      " '3m_high_tack_spray_adhesive' 'nutrigrain_apple_cinnamon'\n",
      " 'clif_crunch_chocolate_chip' 'nice_honey_roasted_almonds'\n",
      " 'campbells_chicken_noodle_soup' '3m_high_tack_spray_adhesive'\n",
      " 'vo5_extra_body_volumizing_shampoo' 'detergent' 'cheez_it_white_cheddar'\n",
      " 'detergent' 'nice_honey_roasted_almonds' 'pringles_bbq'\n",
      " 'campbells_chicken_noodle_soup' 'listerine_green'\n",
      " 'nice_honey_roasted_almonds' 'clif_crunch_chocolate_chip'\n",
      " 'coca_cola_glass_bottle' 'nice_honey_roasted_almonds' 'listerine_green'\n",
      " 'cheez_it_white_cheddar' 'vo5_extra_body_volumizing_shampoo'\n",
      " 'cholula_chipotle_hot_sauce' 'vo5_split_ends_anti_breakage_shampoo'\n",
      " 'aunt_jemima_original_syrup' 'aunt_jemima_original_syrup'\n",
      " 'expo_marker_red' 'coca_cola_glass_bottle' 'palmolive_green'\n",
      " 'cheez_it_white_cheddar' 'listerine_green' 'aunt_jemima_original_syrup'\n",
      " 'pringles_bbq' 'nutrigrain_apple_cinnamon' 'detergent'\n",
      " 'coca_cola_glass_bottle' '3m_high_tack_spray_adhesive'\n",
      " 'clif_crunch_chocolate_chip' 'clif_crunch_chocolate_chip'\n",
      " '3m_high_tack_spray_adhesive' 'expo_marker_red'\n",
      " 'cholula_chipotle_hot_sauce' 'vo5_split_ends_anti_breakage_shampoo'\n",
      " 'nice_honey_roasted_almonds' 'nutrigrain_apple_cinnamon'\n",
      " 'campbells_chicken_noodle_soup' 'nice_honey_roasted_almonds'\n",
      " 'palmolive_green' 'clif_crunch_chocolate_chip'\n",
      " 'campbells_chicken_noodle_soup' 'expo_marker_red'\n",
      " 'cheez_it_white_cheddar' 'aunt_jemima_original_syrup' 'pringles_bbq'\n",
      " 'nutrigrain_apple_cinnamon' 'palmolive_green'\n",
      " 'vo5_extra_body_volumizing_shampoo' 'clif_crunch_chocolate_chip'\n",
      " 'nutrigrain_apple_cinnamon' 'pringles_bbq' 'aunt_jemima_original_syrup'\n",
      " 'expo_marker_red' 'palmolive_green' 'pringles_bbq' 'palmolive_green'\n",
      " 'campbells_chicken_noodle_soup' 'cheez_it_white_cheddar'\n",
      " 'vo5_split_ends_anti_breakage_shampoo' 'palmolive_green'\n",
      " '3m_high_tack_spray_adhesive' 'cheez_it_white_cheddar'\n",
      " 'coca_cola_glass_bottle' 'clif_crunch_chocolate_chip'\n",
      " 'vo5_extra_body_volumizing_shampoo' 'coca_cola_glass_bottle'\n",
      " 'clif_crunch_chocolate_chip' 'campbells_chicken_noodle_soup'\n",
      " 'campbells_chicken_noodle_soup' 'vo5_extra_body_volumizing_shampoo'\n",
      " 'campbells_chicken_noodle_soup' 'coca_cola_glass_bottle'\n",
      " 'vo5_extra_body_volumizing_shampoo' 'vo5_extra_body_volumizing_shampoo'\n",
      " 'clif_crunch_chocolate_chip' 'cholula_chipotle_hot_sauce'\n",
      " 'nice_honey_roasted_almonds' 'clif_crunch_chocolate_chip'\n",
      " 'vo5_extra_body_volumizing_shampoo' '3m_high_tack_spray_adhesive'\n",
      " '3m_high_tack_spray_adhesive' 'campbells_chicken_noodle_soup'\n",
      " 'palmolive_green' '3m_high_tack_spray_adhesive'\n",
      " 'vo5_split_ends_anti_breakage_shampoo' 'nice_honey_roasted_almonds'\n",
      " 'nutrigrain_apple_cinnamon' 'vo5_extra_body_volumizing_shampoo'\n",
      " 'clif_crunch_chocolate_chip' 'cholula_chipotle_hot_sauce'\n",
      " 'expo_marker_red' 'nice_honey_roasted_almonds'\n",
      " '3m_high_tack_spray_adhesive' 'palmolive_green'\n",
      " 'vo5_extra_body_volumizing_shampoo' 'cheez_it_white_cheddar'\n",
      " 'palmolive_green' 'vo5_split_ends_anti_breakage_shampoo'\n",
      " 'nutrigrain_apple_cinnamon' 'listerine_green'\n",
      " 'clif_crunch_chocolate_chip' 'detergent' 'cheez_it_white_cheddar'\n",
      " 'nutrigrain_apple_cinnamon']\n"
     ]
    }
   ],
   "source": [
    "print(y_pred)"
   ]
  },
  {
   "cell_type": "code",
   "execution_count": 42,
   "metadata": {
    "scrolled": true
   },
   "outputs": [
    {
     "name": "stdout",
     "output_type": "stream",
     "text": [
      "[[0. 0. 0. ... 0. 0. 1.]\n",
      " [1. 1. 0. ... 0. 0. 0.]\n",
      " [0. 0. 0. ... 0. 0. 0.]\n",
      " ...\n",
      " [0. 0. 0. ... 0. 0. 0.]\n",
      " [3. 2. 0. ... 0. 0. 0.]\n",
      " [3. 2. 0. ... 0. 0. 0.]]\n"
     ]
    }
   ],
   "source": [
    "print(hs)"
   ]
  },
  {
   "cell_type": "code",
   "execution_count": 51,
   "metadata": {
    "scrolled": true
   },
   "outputs": [
    {
     "name": "stdout",
     "output_type": "stream",
     "text": [
      "(15, 4000)\n"
     ]
    },
    {
     "name": "stderr",
     "output_type": "stream",
     "text": [
      "/usr/local/lib/python3.5/dist-packages/sklearn/feature_extraction/text.py:1242: RuntimeWarning: divide by zero encountered in true_divide\n",
      "  idf = np.log(n_samples / df) + 1\n"
     ]
    },
    {
     "name": "stdout",
     "output_type": "stream",
     "text": [
      "(3471, 4000)\n",
      "(3458, 4000)\n"
     ]
    }
   ],
   "source": [
    "print(hs.shape)\n",
    "k= np.load(\"../files/tset_Histogram_4000.npy\")\n",
    "k1=np.vstack([k,Arr])\n",
    "from sklearn.feature_extraction.text import TfidfTransformer\n",
    "tfr = TfidfTransformer(smooth_idf=False)\n",
    "transf=tfr.fit_transform(k1)\n",
    "k1= transf.toarray()\n",
    "print(k1.shape)\n",
    "tf=k1[13:]\n",
    "print(tf.shape)\n",
    "#scaler = preprocessing.StandardScaler().fit(k)\n"
   ]
  },
  {
   "cell_type": "code",
   "execution_count": 52,
   "metadata": {},
   "outputs": [
    {
     "name": "stdout",
     "output_type": "stream",
     "text": [
      "(15, 4000)\n"
     ]
    }
   ],
   "source": [
    "k1=k1[0:13]\n",
    "k = scaler.transform(k)\n",
    "k.shape\n",
    "print(k.shape)"
   ]
  },
  {
   "cell_type": "code",
   "execution_count": 53,
   "metadata": {},
   "outputs": [],
   "source": [
    "y_predi = clf.predict(k)  "
   ]
  },
  {
   "cell_type": "code",
   "execution_count": 54,
   "metadata": {
    "scrolled": true
   },
   "outputs": [
    {
     "name": "stdout",
     "output_type": "stream",
     "text": [
      "0\tcheez_it_white_cheddar\n",
      "\n",
      "1\tpalmolive_green\n",
      "\n",
      "2\tclif_crunch_chocolate_chip\n",
      "\n",
      "3\tclif_crunch_chocolate_chip\n",
      "\n",
      "4\texpo_marker_red\n",
      "\n",
      "5\tcholula_chipotle_hot_sauce\n",
      "\n",
      "6\tnice_honey_roasted_almonds\n",
      "\n",
      "7\texpo_marker_red\n",
      "\n",
      "8\tpringles_bbq\n",
      "\n",
      "9\tlisterine_green\n",
      "\n",
      "10\tcampbells_chicken_noodle_soup\n",
      "\n",
      "11\texpo_marker_red\n",
      "\n",
      "12\tcoca_cola_glass_bottle\n",
      "\n",
      "13\tvo5_extra_body_volumizing_shampoo\n",
      "\n",
      "14\tpringles_bbq\n",
      "\n"
     ]
    },
    {
     "data": {
      "text/plain": [
       "[None,\n",
       " None,\n",
       " None,\n",
       " None,\n",
       " None,\n",
       " None,\n",
       " None,\n",
       " None,\n",
       " None,\n",
       " None,\n",
       " None,\n",
       " None,\n",
       " None,\n",
       " None,\n",
       " None]"
      ]
     },
     "execution_count": 54,
     "metadata": {},
     "output_type": "execute_result"
    }
   ],
   "source": [
    "[print(str(i)+\"\\t\"+y_predi[i]+\"\\n\") for i in range(len(y_predi))]"
   ]
  },
  {
   "cell_type": "code",
   "execution_count": 55,
   "metadata": {},
   "outputs": [],
   "source": [
    "f=open(\"../files/TestNames_4000\",\"rb\")\n",
    "Names= pickle.load(f)\n",
    "len(Names)\n",
    "f.close()"
   ]
  },
  {
   "cell_type": "code",
   "execution_count": 56,
   "metadata": {
    "scrolled": true
   },
   "outputs": [
    {
     "name": "stdout",
     "output_type": "stream",
     "text": [
      "0\t['tr', 'hard_single_3.jpg']\n",
      "\n",
      "1\t['tr', 'test_1.jpg']\n",
      "\n",
      "2\t['tr', 'easy_single_3.jpg']\n",
      "\n",
      "3\t['tr', 'hard_multi_1.jpg']\n",
      "\n",
      "4\t['tr', 'hard_single_1.jpg']\n",
      "\n",
      "5\t['tr', 'easy_multi_1.jpg']\n",
      "\n",
      "6\t['tr', 'easy_single_1.jpg']\n",
      "\n",
      "7\t['tr', 'hard_multi_3.jpg']\n",
      "\n",
      "8\t['tr', 'hard_single_2.jpg']\n",
      "\n",
      "9\t['tr', 'test_3.jpg']\n",
      "\n",
      "10\t['tr', 'easy_multi_2.jpg']\n",
      "\n",
      "11\t['tr', 'easy_multi_3.jpg']\n",
      "\n",
      "12\t['tr', 'test_2.jpg']\n",
      "\n",
      "13\t['tr', 'easy_single_2.jpg']\n",
      "\n",
      "14\t['tr', 'hard_multi_2.jpg']\n",
      "\n"
     ]
    },
    {
     "data": {
      "text/plain": [
       "[None,\n",
       " None,\n",
       " None,\n",
       " None,\n",
       " None,\n",
       " None,\n",
       " None,\n",
       " None,\n",
       " None,\n",
       " None,\n",
       " None,\n",
       " None,\n",
       " None,\n",
       " None,\n",
       " None]"
      ]
     },
     "execution_count": 56,
     "metadata": {},
     "output_type": "execute_result"
    }
   ],
   "source": [
    "[print(str(i)+\"\\t\"+str(Names[i])+\"\\n\") for i in range(15)]"
   ]
  },
  {
   "cell_type": "code",
   "execution_count": 49,
   "metadata": {},
   "outputs": [
    {
     "ename": "ValueError",
     "evalue": "shapes (6899,4000) and (13,4000) not aligned: 4000 (dim 1) != 13 (dim 0)",
     "output_type": "error",
     "traceback": [
      "\u001b[0;31m---------------------------------------------------------------------------\u001b[0m",
      "\u001b[0;31mValueError\u001b[0m                                Traceback (most recent call last)",
      "\u001b[0;32m<ipython-input-49-eb676850a4cf>\u001b[0m in \u001b[0;36m<module>\u001b[0;34m\u001b[0m\n\u001b[0;32m----> 1\u001b[0;31m \u001b[0mnp\u001b[0m\u001b[0;34m.\u001b[0m\u001b[0mdot\u001b[0m\u001b[0;34m(\u001b[0m\u001b[0mtf\u001b[0m\u001b[0;34m,\u001b[0m\u001b[0mk1\u001b[0m\u001b[0;34m)\u001b[0m\u001b[0;34m\u001b[0m\u001b[0m\n\u001b[0m",
      "\u001b[0;31mValueError\u001b[0m: shapes (6899,4000) and (13,4000) not aligned: 4000 (dim 1) != 13 (dim 0)"
     ]
    }
   ],
   "source": [
    "np.dot(tf,k1)"
   ]
  },
  {
   "cell_type": "code",
   "execution_count": 50,
   "metadata": {},
   "outputs": [
    {
     "ename": "FileNotFoundError",
     "evalue": "[Errno 2] No such file or directory: '../files/Clf/clf_4000_0.01'",
     "output_type": "error",
     "traceback": [
      "\u001b[0;31m---------------------------------------------------------------------------\u001b[0m",
      "\u001b[0;31mFileNotFoundError\u001b[0m                         Traceback (most recent call last)",
      "\u001b[0;32m<ipython-input-50-e1dd9e914a2f>\u001b[0m in \u001b[0;36m<module>\u001b[0;34m\u001b[0m\n\u001b[0;32m----> 1\u001b[0;31m \u001b[0;32mwith\u001b[0m \u001b[0mopen\u001b[0m\u001b[0;34m(\u001b[0m\u001b[0;34m\"../files/Clf/clf_4000_0.01\"\u001b[0m\u001b[0;34m,\u001b[0m\u001b[0;34m\"wb\"\u001b[0m\u001b[0;34m)\u001b[0m \u001b[0;32mas\u001b[0m \u001b[0mf\u001b[0m\u001b[0;34m:\u001b[0m\u001b[0;34m\u001b[0m\u001b[0m\n\u001b[0m\u001b[1;32m      2\u001b[0m     \u001b[0mpickle\u001b[0m\u001b[0;34m.\u001b[0m\u001b[0mdump\u001b[0m\u001b[0;34m(\u001b[0m\u001b[0mclf\u001b[0m\u001b[0;34m,\u001b[0m\u001b[0mf\u001b[0m\u001b[0;34m)\u001b[0m\u001b[0;34m\u001b[0m\u001b[0m\n\u001b[1;32m      3\u001b[0m \u001b[0;34m\u001b[0m\u001b[0m\n",
      "\u001b[0;31mFileNotFoundError\u001b[0m: [Errno 2] No such file or directory: '../files/Clf/clf_4000_0.01'"
     ]
    }
   ],
   "source": [
    "with open(\"../files/Clf/clf_4000_0.01\",\"wb\") as f:\n",
    "    pickle.dump(clf,f)\n",
    "    "
   ]
  },
  {
   "cell_type": "code",
   "execution_count": null,
   "metadata": {},
   "outputs": [],
   "source": []
  }
 ],
 "metadata": {
  "kernelspec": {
   "display_name": "Python 3",
   "language": "python",
   "name": "python3"
  },
  "language_info": {
   "codemirror_mode": {
    "name": "ipython",
    "version": 3
   },
   "file_extension": ".py",
   "mimetype": "text/x-python",
   "name": "python",
   "nbconvert_exporter": "python",
   "pygments_lexer": "ipython3",
   "version": "3.5.2"
  }
 },
 "nbformat": 4,
 "nbformat_minor": 2
}
